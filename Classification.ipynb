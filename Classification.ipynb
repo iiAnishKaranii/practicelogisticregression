{
 "cells": [
  {
   "cell_type": "code",
   "execution_count": 83,
   "metadata": {},
   "outputs": [],
   "source": [
    "import time # explain in reference what each of these libraries are used for\n",
    "import random\n",
    "from math import *\n",
    "import operator\n",
    "\n",
    "import pandas as pd\n",
    "import numpy as np\n",
    "\n",
    "from pandas.plotting import scatter_matrix\n",
    "\n",
    "import matplotlib.pyplot as plt\n",
    "%matplotlib inline \n",
    "\n",
    "import seaborn as sns\n",
    "sns.set(style=\"white\", color_codes=True)\n",
    "sns.set(font_scale=1.5)\n",
    "\n",
    "from sklearn.linear_model import LinearRegression\n",
    "from sklearn.linear_model import LogisticRegression\n",
    "\n",
    "from sklearn import preprocessing, model_selection\n",
    "\n",
    "from sklearn.metrics import classification_report\n",
    "from sklearn.metrics import confusion_matrix\n",
    "from sklearn.metrics import accuracy_score"
   ]
  },
  {
   "cell_type": "code",
   "execution_count": 84,
   "metadata": {},
   "outputs": [
    {
     "data": {
      "text/plain": [
       "Id        int64\n",
       "RI      float64\n",
       "Na      float64\n",
       "Mg      float64\n",
       "Al      float64\n",
       "Si      float64\n",
       "K       float64\n",
       "Ca      float64\n",
       "Ba      float64\n",
       "Fe      float64\n",
       "Type      int64\n",
       "dtype: object"
      ]
     },
     "execution_count": 84,
     "metadata": {},
     "output_type": "execute_result"
    }
   ],
   "source": [
    "# load the training data from glass data set # explain about the dataset*\n",
    "location = \"glass.csv\"\n",
    "glass = pd.read_csv(location)\n",
    "glass.sort_values ('Al', inplace=True)\n",
    "glass.dtypes"
   ]
  },
  {
   "cell_type": "markdown",
   "metadata": {},
   "source": [
    "# Understanding the Dataset\n",
    "\n",
    "The dataset 'glass.csv' is contains information on different glass records having varying levels of different elements such as Silion(Si) and Aluminium(Al). Each datapoint is classified into a type of glass ('type') which can take values of 1,2,3,5,6,7. Of these (1,2,3) are what we call 'Window Glass' and the rest fall under 'Household Glass'.\n",
    "\n",
    "Lets create an additional column named 'OverallType' Where we classify each record under WindowGlass ('0') or HouseholdGlass ('1')."
   ]
  },
  {
   "cell_type": "code",
   "execution_count": 85,
   "metadata": {},
   "outputs": [
    {
     "data": {
      "text/html": [
       "<div>\n",
       "<style scoped>\n",
       "    .dataframe tbody tr th:only-of-type {\n",
       "        vertical-align: middle;\n",
       "    }\n",
       "\n",
       "    .dataframe tbody tr th {\n",
       "        vertical-align: top;\n",
       "    }\n",
       "\n",
       "    .dataframe thead th {\n",
       "        text-align: right;\n",
       "    }\n",
       "</style>\n",
       "<table border=\"1\" class=\"dataframe\">\n",
       "  <thead>\n",
       "    <tr style=\"text-align: right;\">\n",
       "      <th></th>\n",
       "      <th>Id</th>\n",
       "      <th>RI</th>\n",
       "      <th>Na</th>\n",
       "      <th>Mg</th>\n",
       "      <th>Al</th>\n",
       "      <th>Si</th>\n",
       "      <th>K</th>\n",
       "      <th>Ca</th>\n",
       "      <th>Ba</th>\n",
       "      <th>Fe</th>\n",
       "      <th>Type</th>\n",
       "      <th>OverallType</th>\n",
       "    </tr>\n",
       "  </thead>\n",
       "  <tbody>\n",
       "    <tr>\n",
       "      <th>21</th>\n",
       "      <td>22</td>\n",
       "      <td>1.51966</td>\n",
       "      <td>14.77</td>\n",
       "      <td>3.75</td>\n",
       "      <td>0.29</td>\n",
       "      <td>72.02</td>\n",
       "      <td>0.03</td>\n",
       "      <td>9.00</td>\n",
       "      <td>0.0</td>\n",
       "      <td>0.00</td>\n",
       "      <td>1</td>\n",
       "      <td>0</td>\n",
       "    </tr>\n",
       "    <tr>\n",
       "      <th>184</th>\n",
       "      <td>185</td>\n",
       "      <td>1.51115</td>\n",
       "      <td>17.38</td>\n",
       "      <td>0.00</td>\n",
       "      <td>0.34</td>\n",
       "      <td>75.41</td>\n",
       "      <td>0.00</td>\n",
       "      <td>6.65</td>\n",
       "      <td>0.0</td>\n",
       "      <td>0.00</td>\n",
       "      <td>6</td>\n",
       "      <td>1</td>\n",
       "    </tr>\n",
       "    <tr>\n",
       "      <th>39</th>\n",
       "      <td>40</td>\n",
       "      <td>1.52213</td>\n",
       "      <td>14.21</td>\n",
       "      <td>3.82</td>\n",
       "      <td>0.47</td>\n",
       "      <td>71.77</td>\n",
       "      <td>0.11</td>\n",
       "      <td>9.57</td>\n",
       "      <td>0.0</td>\n",
       "      <td>0.00</td>\n",
       "      <td>1</td>\n",
       "      <td>0</td>\n",
       "    </tr>\n",
       "    <tr>\n",
       "      <th>38</th>\n",
       "      <td>39</td>\n",
       "      <td>1.52213</td>\n",
       "      <td>14.21</td>\n",
       "      <td>3.82</td>\n",
       "      <td>0.47</td>\n",
       "      <td>71.77</td>\n",
       "      <td>0.11</td>\n",
       "      <td>9.57</td>\n",
       "      <td>0.0</td>\n",
       "      <td>0.00</td>\n",
       "      <td>1</td>\n",
       "      <td>0</td>\n",
       "    </tr>\n",
       "    <tr>\n",
       "      <th>50</th>\n",
       "      <td>51</td>\n",
       "      <td>1.52320</td>\n",
       "      <td>13.72</td>\n",
       "      <td>3.72</td>\n",
       "      <td>0.51</td>\n",
       "      <td>71.75</td>\n",
       "      <td>0.09</td>\n",
       "      <td>10.06</td>\n",
       "      <td>0.0</td>\n",
       "      <td>0.16</td>\n",
       "      <td>1</td>\n",
       "      <td>0</td>\n",
       "    </tr>\n",
       "  </tbody>\n",
       "</table>\n",
       "</div>"
      ],
      "text/plain": [
       "      Id       RI     Na    Mg    Al     Si     K     Ca   Ba    Fe  Type  \\\n",
       "21    22  1.51966  14.77  3.75  0.29  72.02  0.03   9.00  0.0  0.00     1   \n",
       "184  185  1.51115  17.38  0.00  0.34  75.41  0.00   6.65  0.0  0.00     6   \n",
       "39    40  1.52213  14.21  3.82  0.47  71.77  0.11   9.57  0.0  0.00     1   \n",
       "38    39  1.52213  14.21  3.82  0.47  71.77  0.11   9.57  0.0  0.00     1   \n",
       "50    51  1.52320  13.72  3.72  0.51  71.75  0.09  10.06  0.0  0.16     1   \n",
       "\n",
       "     OverallType  \n",
       "21             0  \n",
       "184            1  \n",
       "39             0  \n",
       "38             0  \n",
       "50             0  "
      ]
     },
     "execution_count": 85,
     "metadata": {},
     "output_type": "execute_result"
    }
   ],
   "source": [
    "glass['OverallType'] = glass.Type.map({1:0, 2:0, 3:0, 5:1, 6:1, 7:1})\n",
    "\n",
    "glass.head()"
   ]
  },
  {
   "cell_type": "markdown",
   "metadata": {},
   "source": [
    "# Binary classification\n",
    "\n",
    "The ordinary logistic regression approach works for binary classes i.e. data that can be classified into one of two classes. Example : Student/ Non student, Yes/No.\n",
    "\n",
    "In our data set, we have data about glass. The columns we see are indexes for amount of elements present in the glass. Example : Si means silicon, Na means sodium. Additionally there is also information about the glass type as 'type' column (Multi Class) and an OverallType of glass as 'OverallType' column (Binary class).\n",
    "\n",
    "Since we will initially perform binary classification and for simple visualisation we will consider the 'OverallType' column as our target class variable (y) and only one of the elements, in this example 'Al' or Aluminium as our 'feature' or independent variable (x).\n",
    "\n",
    "\n",
    "\n"
   ]
  },
  {
   "cell_type": "code",
   "execution_count": 86,
   "metadata": {},
   "outputs": [
    {
     "data": {
      "text/plain": [
       "<function matplotlib.pyplot.plot(*args, scalex=True, scaley=True, data=None, **kwargs)>"
      ]
     },
     "execution_count": 86,
     "metadata": {},
     "output_type": "execute_result"
    },
    {
     "data": {
      "image/png": "[encoded data removed]",
      "text/plain": [
       "<Figure size 936x576 with 1 Axes>"
      ]
     },
     "metadata": {},
     "output_type": "display_data"
    }
   ],
   "source": [
    "plt.figure(figsize = (13,8))\n",
    "plt.scatter(glass.Al, glass.OverallType)\n",
    "plt.plot"
   ]
  },
  {
   "cell_type": "markdown",
   "metadata": {},
   "source": [
    "# Why not just use Linear Regression for this type of problem ? \n",
    "\n",
    "This is a natural question that can arise for someone that isnt familiar with categorical data and the method of Logistic Regression. So lets see what would happen if we used Linear Regression to deal with this problem."
   ]
  },
  {
   "cell_type": "code",
   "execution_count": 87,
   "metadata": {},
   "outputs": [
    {
     "data": {
      "text/plain": [
       "<matplotlib.collections.PathCollection at 0x7f2d9070d198>"
      ]
     },
     "execution_count": 87,
     "metadata": {},
     "output_type": "execute_result"
    },
    {
     "data": {
      "image/png": "[encoded data removed]",
      "text/plain": [
       "<Figure size 936x576 with 1 Axes>"
      ]
     },
     "metadata": {},
     "output_type": "display_data"
    }
   ],
   "source": [
    "linreg = LinearRegression()\n",
    "feature_col = ['Al']\n",
    "\n",
    "X = glass[feature_col]\n",
    "y = glass.OverallType\n",
    "linreg.fit(X,y)\n",
    "glass['OverallType_lin_pred'] = linreg.predict(X)\n",
    "\n",
    "plt.figure(figsize=(13,8))\n",
    "plt.plot(glass.Al, glass.OverallType_lin_pred, color = 'red')\n",
    "plt.scatter(glass.Al, glass.OverallType)\n",
    "\n",
    "\n",
    "\n"
   ]
  },
  {
   "cell_type": "markdown",
   "metadata": {},
   "source": [
    "Some of the first few problems we see with this approach are :\n",
    "\n",
    "1. What class do we predict for values of AL between around 1.5 and 2 ? a value of 0.5 in Overall Glass Type doesnt really mean anything.\n",
    "2. For AL values below 1 our class predictions are negative. Also for Al values above 3 the predicitons are more than 1. If the predictions are assumed to be probabilities we get some impossible values of probabilities which must be between 0 and 1.\n",
    "\n",
    "Another problem with Linear Regression is it cannot deal with Multiclass problems. But we will touch on that a little later.\n",
    "\n",
    "\n"
   ]
  },
  {
   "cell_type": "markdown",
   "metadata": {},
   "source": [
    "Lets see how this problem would be solved using Logistic Regression.\n",
    "\n",
    "Logistic Regression could be understood as Linear Regression mapped using a function known as mapping function, which will help transform all predicted results to as close to a Binary realization. The function we will be using as mapping function is known as Sigmoid Function.\n",
    "\n",
    "The below equation is what we get from Linear Regression. Training essentially involves us finding estimates for the various Beta coefficients:\n",
    "\n",
    "#### 𝑦=𝛽0+𝛽1.𝑥1+𝛽2.𝑥2+𝛽3.𝑥3+...+𝛽𝑘.𝑥𝑘\n",
    "\n",
    "What if we took whatever y we got from here and somehow transformed it using a function that gives us almost exclusively only 2 distinct values. Well that is essentially what our Sigmoid function does for us. Below is the mathematical form of the sigmoid function : \n",
    "\n",
    "#### P(probability) = [1/(1 + e^(-y)]\n",
    "\n",
    "Here, the y is our result from linear regression itself !\n",
    "\n",
    "As we will see a little ahead, the curve of the sigmoid function gives us values between 0 and 1 in a neat S-shaped curve. Hence its why it is treated as a probability( values between 0 and 1) and works excellently as a binary classifier as its output values are either extremely close to 0 or extremely close to 1.\n",
    "\n",
    "\n",
    "Cross Entropy or the loss function in Logistic Regression is as shown below : \n",
    "\n",
    "#### log p(y|x) = - [log yˆ y (1−yˆ) 1−y = y log ˆy+ (1−y) log(1−yˆ)]\n",
    "\n",
    "We define log odds as the log of the odds, wherein odds is the ratio of probability of a data point being a particular class with its probability of being of the other class. With a bit of work we get the equation as :\n",
    "\n",
    "#### $odds = \\frac{p}{1−p} = y = \\beta_0 + \\beta_1.x$\n",
    "#### log odds = $log\\frac{p}{1−p}$=log(P(y=1)/P(y=0))=β0+β1x1+…+βpxp \n",
    "#### = $\\beta_0 + \\beta_1.x$ for only 1 feature.\n",
    "\n",
    "considering above case where we only have 1 feature wiz 'Al' our probability becomes \n",
    "\n",
    "$p = \\frac{odds}{1 + odds}$ \n",
    "\n",
    "\n",
    "\n",
    "\n",
    "\n",
    "\n",
    "Anyways lets get that S-shaped curve that we spoke about regarding the Sigmoid function :\n",
    "\n",
    "\n",
    "\n",
    "\n",
    "\n"
   ]
  },
  {
   "cell_type": "code",
   "execution_count": 90,
   "metadata": {},
   "outputs": [
    {
     "name": "stderr",
     "output_type": "stream",
     "text": [
      "/opt/conda/lib/python3.7/site-packages/sklearn/linear_model/logistic.py:433: FutureWarning: Default solver will be changed to 'lbfgs' in 0.22. Specify a solver to silence this warning.\n",
      "  FutureWarning)\n"
     ]
    },
    {
     "data": {
      "text/plain": [
       "[<matplotlib.lines.Line2D at 0x7f2d90620c18>]"
      ]
     },
     "execution_count": 90,
     "metadata": {},
     "output_type": "execute_result"
    },
    {
     "data": {
      "image/png": "[encoded data removed]",
      "text/plain": [
       "<Figure size 936x576 with 1 Axes>"
      ]
     },
     "metadata": {},
     "output_type": "display_data"
    }
   ],
   "source": [
    "\n",
    "logreg = LogisticRegression(C= 10000) #regularization*\n",
    "\n",
    "feature_cols = ['Al']\n",
    "\n",
    "X = glass[feature_cols]\n",
    "y = glass.OverallType\n",
    "\n",
    "logreg.fit(X, y)\n",
    "\n",
    "glass['OverallType_log_class_pred'] = logreg.predict(X)\n",
    "glass['OverallType_log_prob_pred'] = logreg.predict_proba(X)[:, 1]\n",
    "\n",
    "plt.figure(figsize=(13,8))\n",
    "plt.scatter(glass.Al, glass.OverallType)\n",
    "plt.plot(glass.Al, glass.OverallType_log_prob_pred, color ='red')\n",
    "plt.plot(glass.Al, glass.OverallType_log_class_pred, color ='green')"
   ]
  },
  {
   "cell_type": "markdown",
   "metadata": {},
   "source": [
    "The green curves in the above graph shows us which class the points have been classified into. The red points are the actual probabilities of the each data point. As we can see, by default at the probability of 0.5 the binary classification occurs."
   ]
  },
  {
   "cell_type": "markdown",
   "metadata": {},
   "source": [
    "# Interpretation of the Coefficient\n",
    "\n",
    "As mentioned earlier, even in Logistic regression we have calculation of Beta coefficients as in Linear Regression. Lets try to understand that how the probabilities predicted change wrt change in values of the feature.\n",
    "\n"
   ]
  },
  {
   "cell_type": "code",
   "execution_count": 95,
   "metadata": {},
   "outputs": [
    {
     "name": "stdout",
     "output_type": "stream",
     "text": [
      "log of odds for al = 2 =  [0.64697084]\n"
     ]
    }
   ],
   "source": [
    "# compute predicted log-odds for al=2 using the equation\n",
    "logodds = logreg.intercept_ + logreg.coef_[0] * 2\n",
    "\n",
    "print('log of odds for al = 2 = ', logodds)"
   ]
  },
  {
   "cell_type": "markdown",
   "metadata": {},
   "source": [
    "Convert log of odds to odds\n",
    "\n",
    "$ log(odds) = n $\n",
    "\n",
    "$ odds = e^n $"
   ]
  },
  {
   "cell_type": "code",
   "execution_count": 96,
   "metadata": {},
   "outputs": [
    {
     "data": {
      "text/plain": [
       "array([1.90974714])"
      ]
     },
     "execution_count": 96,
     "metadata": {},
     "output_type": "execute_result"
    }
   ],
   "source": [
    "odds = np.exp(logodds)\n",
    "odds"
   ]
  },
  {
   "cell_type": "markdown",
   "metadata": {},
   "source": [
    "Convert odds to probability\n",
    "\n",
    "$odds = e^n$\n",
    "\n",
    "$\\frac{p}{1 - p} = e^n$\n",
    "\n",
    "$\\frac{1 - p}{p} = \\frac{1}{e^n}$\n",
    "\n",
    "$\\frac{1}{p} = 1+ \\frac{1}{e^n}$\n",
    "\n",
    "$\\frac{1}{p} = \\frac{1+ e^n}{e^n}$\n",
    "\n",
    "$p = \\frac{odds}{1 + odds}$"
   ]
  },
  {
   "cell_type": "code",
   "execution_count": 99,
   "metadata": {},
   "outputs": [
    {
     "data": {
      "text/plain": [
       "array([0.65632753])"
      ]
     },
     "execution_count": 99,
     "metadata": {},
     "output_type": "execute_result"
    }
   ],
   "source": [
    "prob = odds/(1 + odds)\n",
    "prob"
   ]
  },
  {
   "cell_type": "markdown",
   "metadata": {},
   "source": [
    "compute predicted probability for al=2 using the predict_proba method"
   ]
  },
  {
   "cell_type": "code",
   "execution_count": 100,
   "metadata": {},
   "outputs": [
    {
     "name": "stdout",
     "output_type": "stream",
     "text": [
      "[[0.34367247 0.65632753]]\n",
      "[0.65632753]\n"
     ]
    }
   ],
   "source": [
    "print(logreg.predict_proba([[2]]))\n",
    "print(logreg.predict_proba([[2]])[:, 1]) #explain this indexing*"
   ]
  },
  {
   "cell_type": "code",
   "execution_count": 111,
   "metadata": {},
   "outputs": [
    {
     "data": {
      "text/plain": [
       "array([[4.17968425]])"
      ]
     },
     "execution_count": 111,
     "metadata": {},
     "output_type": "execute_result"
    }
   ],
   "source": [
    "logreg.coef_"
   ]
  },
  {
   "cell_type": "markdown",
   "metadata": {},
   "source": [
    "examine the coefficient for al"
   ]
  },
  {
   "cell_type": "code",
   "execution_count": 101,
   "metadata": {},
   "outputs": [
    {
     "name": "stdout",
     "output_type": "stream",
     "text": [
      "('Al', 4.179684246829908)\n"
     ]
    }
   ],
   "source": [
    "for i in zip(feature_cols, logreg.coef_[0]): #explain '_' in code*\n",
    "    print(i)"
   ]
  },
  {
   "cell_type": "markdown",
   "metadata": {},
   "source": [
    "#### -->Interpretation: A 1 unit increase in 'al' is associated with a 4.17 unit increase in the log-odds of 'Overall Glass Type'."
   ]
  },
  {
   "cell_type": "markdown",
   "metadata": {},
   "source": [
    "increasing al by 1 (so that al=3) increases the log-odds"
   ]
  },
  {
   "cell_type": "code",
   "execution_count": 103,
   "metadata": {},
   "outputs": [
    {
     "data": {
      "text/plain": [
       "0.8704637706698961"
      ]
     },
     "execution_count": 103,
     "metadata": {},
     "output_type": "execute_result"
    }
   ],
   "source": [
    "logodds = -0.10592543 + 2.0109909641729433\n",
    "\n",
    "odds = np.exp(logodds)\n",
    "prob = odds/(1 + odds)\n",
    "prob"
   ]
  },
  {
   "cell_type": "markdown",
   "metadata": {},
   "source": [
    "compute predicted probability for al=3 using the predict_proba method"
   ]
  },
  {
   "cell_type": "code",
   "execution_count": 104,
   "metadata": {},
   "outputs": [
    {
     "data": {
      "text/plain": [
       "array([[0.00794958, 0.99205042]])"
      ]
     },
     "execution_count": 104,
     "metadata": {},
     "output_type": "execute_result"
    }
   ],
   "source": [
    "logreg.predict_proba([[3]])"
   ]
  },
  {
   "cell_type": "code",
   "execution_count": 105,
   "metadata": {},
   "outputs": [
    {
     "data": {
      "text/plain": [
       "array([[0.34367247, 0.65632753]])"
      ]
     },
     "execution_count": 105,
     "metadata": {},
     "output_type": "execute_result"
    }
   ],
   "source": [
    "logreg.predict_proba([[2]])"
   ]
  },
  {
   "cell_type": "markdown",
   "metadata": {},
   "source": [
    "we see that the probability of it being class '1' or increase in probability of it being glass type of 'household' increases from 0.65 to 0.99.\n",
    "\n",
    "\n",
    "Positive coefficients increase the log-odds of the response \n",
    "(and thus increase the probability), \n",
    "and negative coefficients decrease the log-odds of the response \n",
    "(and thus decrease the probability)"
   ]
  },
  {
   "cell_type": "code",
   "execution_count": 107,
   "metadata": {},
   "outputs": [
    {
     "data": {
      "text/plain": [
       "array([-7.71239765])"
      ]
     },
     "execution_count": 107,
     "metadata": {},
     "output_type": "execute_result"
    }
   ],
   "source": [
    "logreg.intercept_"
   ]
  },
  {
   "cell_type": "markdown",
   "metadata": {},
   "source": [
    "--> Interpretation: For an 'al' value of 0, the log-odds of 'household' is -7.71."
   ]
  },
  {
   "cell_type": "code",
   "execution_count": 108,
   "metadata": {},
   "outputs": [
    {
     "data": {
      "text/plain": [
       "array([0.00044705])"
      ]
     },
     "execution_count": 108,
     "metadata": {},
     "output_type": "execute_result"
    }
   ],
   "source": [
    "logodds = logreg.intercept_\n",
    "odds = np.exp(logodds)\n",
    "prob = odds/(1 + odds)\n",
    "prob"
   ]
  },
  {
   "cell_type": "markdown",
   "metadata": {},
   "source": [
    "As is expected, the probability of probability being 1 when Al = 0  is extremely low."
   ]
  },
  {
   "cell_type": "code",
   "execution_count": 109,
   "metadata": {},
   "outputs": [],
   "source": [
    "#other periodic table elements. model from these additional features."
   ]
  },
  {
   "cell_type": "code",
   "execution_count": null,
   "metadata": {},
   "outputs": [],
   "source": []
  }
 ],
 "metadata": {
  "kernelspec": {
   "display_name": "Python 3",
   "language": "python",
   "name": "python3"
  },
  "language_info": {
   "codemirror_mode": {
    "name": "ipython",
    "version": 3
   },
   "file_extension": ".py",
   "mimetype": "text/x-python",
   "name": "python",
   "nbconvert_exporter": "python",
   "pygments_lexer": "ipython3",
   "version": "3.7.3"
  }
 },
 "nbformat": 4,
 "nbformat_minor": 2
}
